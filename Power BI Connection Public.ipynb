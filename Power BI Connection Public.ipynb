{
 "cells": [
  {
   "cell_type": "code",
   "execution_count": null,
   "id": "b1594ffa",
   "metadata": {},
   "outputs": [],
   "source": [
    "#Connect to PowerBI Dataset within Python Notebook\n",
    "\n",
    "#Tutorial from\n",
    "# https://pawarbi.github.io/blog/ppu/xmla/powerbi_premium/premium/python/jupyter_notebook/2020/12/11/Accessing-Power-BI-Datasets-via-XMLA-Endpoint-in-Python-Jupyter-Notebook.html\n"
   ]
  },
  {
   "cell_type": "code",
   "execution_count": null,
   "id": "e54e9264",
   "metadata": {},
   "outputs": [],
   "source": [
    "pip install pythonnet"
   ]
  },
  {
   "cell_type": "code",
   "execution_count": null,
   "id": "e562d840",
   "metadata": {},
   "outputs": [],
   "source": [
    "import pandas as pd\n",
    "import ssas_api as ssas\n",
    "import seaborn as sns\n",
    "import matplotlib.pyplot as plt"
   ]
  },
  {
   "cell_type": "code",
   "execution_count": null,
   "id": "6ae716b9",
   "metadata": {},
   "outputs": [],
   "source": [
    "# server is found under Workspace settings within Power BI Online under Premium\n",
    "# copy under Workspace Connection\n",
    "\n",
    "server = '' #find link on Power BI online workspace\n",
    "username = '' #your email address\n",
    "password = '' # make sure to clear your password"
   ]
  },
  {
   "cell_type": "code",
   "execution_count": null,
   "id": "fe5f6f87",
   "metadata": {},
   "outputs": [],
   "source": [
    "# must add this file into your active repo\n",
    "# https://github.com/yehoshuadimarsky/python-ssas/blob/master/ssas_api.py\n",
    "\n",
    "conn1 = ssas.set_conn_string(\n",
    "    server=server,\n",
    "    db_name='',\n",
    "    username=username,\n",
    "    password=password\n",
    "    )"
   ]
  },
  {
   "cell_type": "code",
   "execution_count": null,
   "id": "880fd607",
   "metadata": {},
   "outputs": [],
   "source": [
    "global System, DataTable, AMO, ADOMD\n",
    "\n",
    "import System\n",
    "from System.Data import DataTable\n",
    "import Microsoft.AnalysisServices.Tabular as TOM\n",
    "import Microsoft.AnalysisServices.AdomdClient as ADOMD\n",
    "\n",
    "try:\n",
    "    TOMServer = TOM.Server()\n",
    "    TOMServer.Connect(conn1)\n",
    "    print(\"Connection to Workspace Successful !\")\n",
    "    \n",
    "except:\n",
    "    print(\"Connection to Workspace Failed\")"
   ]
  },
  {
   "cell_type": "code",
   "execution_count": null,
   "id": "9bc52b43",
   "metadata": {},
   "outputs": [],
   "source": [
    "pd.set_option('display.max_rows', None) # print full list\n",
    "datasets = pd.DataFrame(columns=['Dataset_Name', 'Compatibility', 'ID', 'Size_MB','Created_Date','Last_Update' ])\n",
    "\n",
    "for item in TOMServer.Databases:\n",
    "    \n",
    "          \n",
    "    datasets = datasets.append({'Dataset_Name' :item.Name, \n",
    "                     'Compatibility':item.CompatibilityLevel,\n",
    "                     'Created_Date' :item.CreatedTimestamp,\n",
    "                     'ID'           :item.ID,\n",
    "                     'Last_Update'  :item.LastUpdate,\n",
    "                     'Size_MB'      :(item.EstimatedSize*1e-06)    },\n",
    "                     ignore_index=True)\n",
    "    \n",
    "datasets"
   ]
  },
  {
   "cell_type": "code",
   "execution_count": null,
   "id": "79d2f5db",
   "metadata": {},
   "outputs": [],
   "source": [
    "#choose dataset Id\n",
    "#show all tables within dataset\n",
    "\n",
    "ds = TOMServer.Databases[''] # add id from desired dataset in above output\n",
    "\n",
    "for table in ds.Model.Tables:\n",
    "    print(table.Name)"
   ]
  },
  {
   "cell_type": "code",
   "execution_count": null,
   "id": "11cde716",
   "metadata": {},
   "outputs": [],
   "source": [
    "#connect to table within above dataset using Dataset_name\n",
    "\n",
    "conn2 = (ssas.set_conn_string(\n",
    "    server=server,\n",
    "    db_name='',\n",
    "    username = username,\n",
    "    password = password\n",
    " ))"
   ]
  },
  {
   "cell_type": "code",
   "execution_count": null,
   "id": "08aced71",
   "metadata": {},
   "outputs": [],
   "source": [
    "# You can write any valid DAX query against this table and get the results back as a Pandas dataframe.\n",
    "\n",
    "dax_string = '''\n",
    "    //Write your DAX Query here\n",
    "    EVALUATE\n",
    "    //TableName\n",
    "    '''\n",
    "\n",
    "df = (ssas\n",
    "      .get_DAX(\n",
    "      connection_string=conn2, \n",
    "      dax_string=dax_string)         \n",
    "              )\n",
    "\n",
    "df.head(10)"
   ]
  },
  {
   "cell_type": "code",
   "execution_count": null,
   "id": "ff509685",
   "metadata": {},
   "outputs": [],
   "source": [
    "for col in df.columns:\n",
    "    print(col)\n",
    "\n",
    "#totalReplacements=df.sum(Replacements)\n",
    "#totalReplacements"
   ]
  },
  {
   "cell_type": "code",
   "execution_count": null,
   "id": "a43619bb",
   "metadata": {},
   "outputs": [],
   "source": [
    "# change column names\n",
    "df = df.rename(columns=lambda x: x.split(\"[\")[1])\n",
    "df.columns = df.columns.str.replace(\"]\", \"\")\n",
    "# print dataframe columns\n",
    "print(\"Dataframe columns:\", df.columns)"
   ]
  },
  {
   "cell_type": "code",
   "execution_count": null,
   "id": "26d0ae99",
   "metadata": {},
   "outputs": [],
   "source": [
    "#show column names\n",
    "\n",
    "for col in df.columns:\n",
    "    print(col)"
   ]
  },
  {
   "cell_type": "code",
   "execution_count": null,
   "id": "265864b4",
   "metadata": {},
   "outputs": [],
   "source": [
    "dataTypes = df.dtypes\n",
    "dataTypes"
   ]
  },
  {
   "cell_type": "code",
   "execution_count": null,
   "id": "c36fbe71",
   "metadata": {},
   "outputs": [],
   "source": [
    "df.Replacements = df.Replacements.astype(int)\n",
    "df['Date'] = pd.to_datetime(df['Created']).dt.date"
   ]
  },
  {
   "cell_type": "code",
   "execution_count": null,
   "id": "bca2152e",
   "metadata": {},
   "outputs": [],
   "source": [
    "totalReplacements = sum(df.Replacements)\n",
    "totalReplacements"
   ]
  },
  {
   "cell_type": "code",
   "execution_count": null,
   "id": "4a66a0d4",
   "metadata": {},
   "outputs": [],
   "source": [
    "tmp = df.groupby('Date')['Replacements'].sum().reset_index()\n",
    "tmp['Replacements_cumsum'] = tmp['Replacements'].cumsum()"
   ]
  },
  {
   "cell_type": "code",
   "execution_count": null,
   "id": "1b2d29f3",
   "metadata": {},
   "outputs": [],
   "source": [
    "print(tmp.head(10))\n",
    "\n",
    "print(\"Average Replacements Per Day \" + str(round(tmp[\"Replacements\"].mean(), 2)))\n",
    "print(\"Max Replacements Per Day \" + str(tmp[\"Replacements\"].max()))"
   ]
  },
  {
   "cell_type": "code",
   "execution_count": null,
   "id": "f1473a8b",
   "metadata": {},
   "outputs": [],
   "source": [
    "plt.xticks(rotation=30)\n",
    "plt.plot(tmp.Date, tmp.Replacements_cumsum)"
   ]
  }
 ],
 "metadata": {
  "kernelspec": {
   "display_name": "Python 3",
   "language": "python",
   "name": "python3"
  },
  "language_info": {
   "codemirror_mode": {
    "name": "ipython",
    "version": 3
   },
   "file_extension": ".py",
   "mimetype": "text/x-python",
   "name": "python",
   "nbconvert_exporter": "python",
   "pygments_lexer": "ipython3",
   "version": "3.8.8"
  }
 },
 "nbformat": 4,
 "nbformat_minor": 5
}
